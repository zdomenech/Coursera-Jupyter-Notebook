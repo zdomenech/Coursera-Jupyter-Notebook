{
 "cells": [
  {
   "cell_type": "markdown",
   "id": "e3ebf226-511c-4bf7-acbd-2353da20d393",
   "metadata": {},
   "source": [
    "# **Data Science Tools and Ecosystem**"
   ]
  },
  {
   "cell_type": "markdown",
   "id": "b53a8147-1bc2-4ee6-851b-2fbbf4e865c7",
   "metadata": {},
   "source": [
    "In this notebook, Data Science Tools and Ecosystem are summarized."
   ]
  },
  {
   "cell_type": "markdown",
   "id": "c532e803-3dd1-436f-bb56-636c601bf915",
   "metadata": {},
   "source": [
    "**Objectives:**\n",
    "- List popular languages for Data Science\n",
    "- List popular libraries for Data Science\n",
    "- List of well known Data Science Tools\n",
    "- How to provide comments in Cell"
   ]
  },
  {
   "cell_type": "markdown",
   "id": "5f345266-052f-4412-b802-f9ab41f9ee74",
   "metadata": {},
   "source": [
    "Some of the popular languages that Data Scientists use are:\n",
    "1. Python\n",
    "2. R\n",
    "3. SQL\n",
    "4. C++\n",
    "5. Java"
   ]
  },
  {
   "cell_type": "markdown",
   "id": "89a84fad-b89c-4498-b978-ba764e76015e",
   "metadata": {},
   "source": [
    "Some of the commonly used libraries used by Data Scientists include:\n",
    "1. TensorFlow\n",
    "2. NumPy\n",
    "3. SciPy\n",
    "4. Pandas\n",
    "5. Matplotlib"
   ]
  },
  {
   "cell_type": "markdown",
   "id": "198fa0c2-9339-423b-8cd1-0f2060e5388a",
   "metadata": {},
   "source": [
    "|Data Science Tools|\n",
    "|------------------|\n",
    "|SAS|\n",
    "|Apache Hadoop|\n",
    "|TensorFlow|"
   ]
  },
  {
   "cell_type": "markdown",
   "id": "9634c1fb-fa85-4ecc-a5aa-511ad8a427d8",
   "metadata": {},
   "source": [
    "### Below are a few examples of evaluating arithmetic expressions in Python"
   ]
  },
  {
   "cell_type": "code",
   "execution_count": 12,
   "id": "f41742aa-291e-4433-bac9-74b2cba86a48",
   "metadata": {},
   "outputs": [
    {
     "data": {
      "text/plain": [
       "17"
      ]
     },
     "execution_count": 12,
     "metadata": {},
     "output_type": "execute_result"
    }
   ],
   "source": [
    "#This a simple arithmetic expression to mutiply then add integers\n",
    "(3*4)+5"
   ]
  },
  {
   "cell_type": "code",
   "execution_count": 13,
   "id": "7d0c8f78-6a33-4456-b923-a4567077d0b9",
   "metadata": {},
   "outputs": [
    {
     "data": {
      "text/plain": [
       "3.3333333333333335"
      ]
     },
     "execution_count": 13,
     "metadata": {},
     "output_type": "execute_result"
    }
   ],
   "source": [
    "#This will convert 200 minutes to hours by dividing by 60\n",
    "200/60"
   ]
  },
  {
   "cell_type": "markdown",
   "id": "583773cf-466d-4501-9edd-5bebd85890c0",
   "metadata": {},
   "source": [
    "## Author\n",
    "Zach Domenech"
   ]
  }
 ],
 "metadata": {
  "kernelspec": {
   "display_name": "Python 3 (ipykernel)",
   "language": "python",
   "name": "python3"
  },
  "language_info": {
   "codemirror_mode": {
    "name": "ipython",
    "version": 3
   },
   "file_extension": ".py",
   "mimetype": "text/x-python",
   "name": "python",
   "nbconvert_exporter": "python",
   "pygments_lexer": "ipython3",
   "version": "3.12.7"
  }
 },
 "nbformat": 4,
 "nbformat_minor": 5
}
